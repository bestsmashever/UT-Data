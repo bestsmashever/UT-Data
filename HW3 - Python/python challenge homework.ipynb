{
 "cells": [
  {
   "cell_type": "markdown",
   "metadata": {},
   "source": [
    "# PyBank"
   ]
  },
  {
   "cell_type": "code",
   "execution_count": null,
   "metadata": {},
   "outputs": [],
   "source": [
    "import csv"
   ]
  },
  {
   "cell_type": "code",
   "execution_count": null,
   "metadata": {},
   "outputs": [],
   "source": [
    "filepath = \"./PyBank/budget_data.csv\""
   ]
  },
  {
   "cell_type": "code",
   "execution_count": null,
   "metadata": {},
   "outputs": [],
   "source": [
    "Num_Months = 0\n",
    "Total_PL = 0\n",
    "Total_Change = 0\n",
    "Last_Month_PL = 0\n",
    "Average_Change = 0\n",
    "Month_Change = 0\n",
    "Max_Increase = 0\n",
    "Max_Decrease = 0\n",
    "\n",
    "with open(filepath, newline = \"\") as csvfile:\n",
    "    csvreader = csv.reader(csvfile, delimiter = \",\")\n",
    "    header = next(csvreader)\n",
    "    for row in csvreader:\n",
    "        \n",
    "        # count the total number of months\n",
    "        Num_Months = Num_Months + 1\n",
    "        \n",
    "        # calculate the total amount of profit and loss\n",
    "        Total_PL = Total_PL + float(row[1])\n",
    "        \n",
    "        # calculate the total amount of change\n",
    "        if Num_Months == 1:\n",
    "            Total_Change = 0\n",
    "            Month_Change = 0\n",
    "        else: \n",
    "            Month_Change = float(row[1]) - Last_Month_PL\n",
    "            Total_Change = Month_Change + Total_Change\n",
    "        \n",
    "        Last_Month_PL = float(row[1])\n",
    "        \n",
    "        # compare and find the greatest increase in profit and loss, and the greatest decrease in profit and loss\n",
    "        if Max_Increase < Month_Change:\n",
    "            Max_Increase = Month_Change\n",
    "            Max_Increase_Date = row[0]\n",
    "        \n",
    "        if Max_Decrease > Month_Change:\n",
    "            Max_Decrease = Month_Change\n",
    "            Max_Decrease_Date = row[0]\n",
    "    \n",
    "Average_Change = round(Total_Change / Num_Months, 2)"
   ]
  },
  {
   "cell_type": "code",
   "execution_count": null,
   "metadata": {},
   "outputs": [],
   "source": [
    "print(\"Financial Analysis\")\n",
    "print(\"-----------------------------\")\n",
    "print(\"Total Months: \" + str(Num_Months))\n",
    "print(\"Total: \" + str(Total_PL))\n",
    "print(\"Average Change: \" + str(f\"${Average_Change}\"))\n",
    "print(f\"Greatest Increase in Profits: {Max_Increase_Date} ${Max_Increase}\")\n",
    "print(f\"Greatest decrease in Profits: {Max_Decrease_Date} ${Max_Decrease}\")"
   ]
  },
  {
   "cell_type": "code",
   "execution_count": null,
   "metadata": {},
   "outputs": [],
   "source": [
    "# output to a txt file\n",
    "with open(\"PyBank.txt\", \"w\") as BankResult:\n",
    "    BankResult.write(\"Financial Analysis \\n\")\n",
    "    BankResult.write(\"----------------------------- \\n\")\n",
    "    BankResult.write(\"Total Months: \" + str(Num_Months) + \"\\n\")\n",
    "    BankResult.write(\"Total: \" + str(Total_PL) + \"\\n\")\n",
    "    BankResult.write(\"Average Change: \" + str(f\"${Average_Change}\") + \"\\n\")\n",
    "    BankResult.write(f\"Greatest Increase in Profits: {Max_Increase_Date} ${Max_Increase}\" + \"\\n\")\n",
    "    BankResult.write(f\"Greatest decrease in Profits: {Max_Decrease_Date} ${Max_Decrease}\")"
   ]
  },
  {
   "cell_type": "markdown",
   "metadata": {},
   "source": [
    "# PyPoll"
   ]
  },
  {
   "cell_type": "code",
   "execution_count": 50,
   "metadata": {},
   "outputs": [],
   "source": [
    "import csv"
   ]
  },
  {
   "cell_type": "code",
   "execution_count": 51,
   "metadata": {},
   "outputs": [],
   "source": [
    "filepath = \"./PyPoll/election_data.csv\""
   ]
  },
  {
   "cell_type": "code",
   "execution_count": 97,
   "metadata": {
    "scrolled": true
   },
   "outputs": [],
   "source": [
    "with open(filepath, newline=\"\") as csvfile:\n",
    "    csvreader = csv.reader(csvfile)\n",
    "    header = next(csvreader)\n",
    "    vote_count = 0\n",
    "    candidates_list = []\n",
    "    for row in csvreader:\n",
    "        \n",
    "        # calculate the Total Votes\n",
    "        vote_count = vote_count + 1\n",
    "        \n",
    "        # generate a list of candidates\n",
    "        candidates_list.append(row[2])\n",
    "\n",
    "# remove duplicates in the list\n",
    "simplified_candidates = list(set(candidates_list))\n",
    "\n",
    "# count the votes for each candidate\n",
    "individual_votes = []\n",
    "for i in range(0, len(simplified_candidates)):\n",
    "    individual_votes.append(candidates_list.count(simplified_candidates[i]))\n",
    "\n",
    "# calculate the percentage of votes each candidate earns\n",
    "percentage = []\n",
    "for j in range(0, len(individual_votes)):\n",
    "    percentage.append(f\"{round(individual_votes[j] / vote_count * 100, 3)}%\")\n",
    "\n",
    "# combine candidate names, individual votes and percentage of votes into one list\n",
    "consolidated_list = []\n",
    "for x in range(0, len(individual_votes)):\n",
    "    consolidated_list.append([simplified_candidates[x], percentage[x], individual_votes[x]])\n",
    "\n",
    "# take third element for sort\n",
    "def takeThird(element):\n",
    "    return element[2]\n",
    "\n",
    "# sort the consolidated list by number of votes received\n",
    "consolidated_list.sort(key = takeThird, reverse = True)"
   ]
  },
  {
   "cell_type": "code",
   "execution_count": 94,
   "metadata": {},
   "outputs": [
    {
     "name": "stdout",
     "output_type": "stream",
     "text": [
      "Election Results\n",
      "----------------------\n",
      "Total Votes 3521001\n",
      "----------------------\n",
      "Khan: 63.0% (2218231)\n",
      "Correy: 20.0% (704200)\n",
      "Li: 14.0% (492940)\n",
      "O'Tooley: 3.0% (105630)\n",
      "----------------------\n",
      "Winner: Khan\n"
     ]
    }
   ],
   "source": [
    "# print the result\n",
    "print(\"Election Results\")\n",
    "print(\"----------------------\")\n",
    "print(f\"Total Votes {vote_count}\")\n",
    "print(\"----------------------\")\n",
    "for item in consolidated_list:\n",
    "    print(f\"{item[0]}: {item[1]} ({item[2]})\")\n",
    "print(\"----------------------\")\n",
    "print(f\"Winner: {consolidated_list[0][0]}\")\n",
    "print(\"----------------------\")"
   ]
  },
  {
   "cell_type": "code",
   "execution_count": 96,
   "metadata": {},
   "outputs": [],
   "source": [
    "# output the result into txt\n",
    "with open(\"PyPoll.txt\", \"w\") as PollResult:\n",
    "    PollResult.write(\"Election Results\\n\")\n",
    "    PollResult.write(\"----------------------\\n\")\n",
    "    PollResult.write(f\"Total Votes {vote_count}\\n\")\n",
    "    PollResult.write(\"----------------------\\n\")\n",
    "    for item in consolidated_list:\n",
    "        PollResult.write(f\"{item[0]}: {item[1]} ({item[2]}) \\n\")\n",
    "    PollResult.write(\"----------------------\\n\")\n",
    "    PollResult.write(f\"Winner: {consolidated_list[0][0]}\\n\")\n",
    "    PollResult.write(\"----------------------\")"
   ]
  },
  {
   "cell_type": "code",
   "execution_count": null,
   "metadata": {},
   "outputs": [],
   "source": []
  }
 ],
 "metadata": {
  "kernelspec": {
   "display_name": "Python 3",
   "language": "python",
   "name": "python3"
  },
  "language_info": {
   "codemirror_mode": {
    "name": "ipython",
    "version": 3
   },
   "file_extension": ".py",
   "mimetype": "text/x-python",
   "name": "python",
   "nbconvert_exporter": "python",
   "pygments_lexer": "ipython3",
   "version": "3.6.5"
  }
 },
 "nbformat": 4,
 "nbformat_minor": 2
}
